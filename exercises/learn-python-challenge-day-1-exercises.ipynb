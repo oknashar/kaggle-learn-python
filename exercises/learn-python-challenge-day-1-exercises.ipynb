{
 "cells": [
  {
   "cell_type": "markdown",
   "metadata": {
    "_uuid": "4df66964d02a91212b8b9b84e1be515cc521b841"
   },
   "source": [
    "# Exercises"
   ]
  },
  {
   "cell_type": "markdown",
   "metadata": {
    "_uuid": "d5ab392356d184d03cee32a1c4fb54baba0b8c47"
   },
   "source": [
    "Welcome to your first set of Python coding problems! Each day's tutorial will be accompanied with a handful of problems so you can practice what you just learned. <!-- We've also provided code you can use to check your answers, get a hint, or peek at the solution. -->\n",
    "\n",
    "Also, if this is your first time using Kaggle Kernels, welcome! For a very quick introduction to Kernels' features, [check out this video](https://youtu.be/4C2qMnaIKL4).\n",
    "\n",
    "Try running the code cell below (by pressing the ► button in the left margin, or clicking on the cell and using the keyboard shortcut ctrl+enter)."
   ]
  },
  {
   "cell_type": "code",
   "execution_count": null,
   "metadata": {
    "_uuid": "7431d9074f12a4b0d9aacdc701e9f48ac9287ec7",
    "collapsed": true
   },
   "outputs": [],
   "source": [
    "print(\"You've successfully run some Python code\")\n",
    "print(\"Congratulations!\")"
   ]
  },
  {
   "cell_type": "markdown",
   "metadata": {
    "_uuid": "17be3dea2c0edde1b73e204a319cb7fb926cb9f6"
   },
   "source": [
    "Try adding another line of code to the cell above and re-running it. \n",
    "\n",
    "Try creating a new code cell (using the \"+\" buttons in a cell's top-right menu), writing some code in it, then running it.\n",
    "\n",
    "Great! You now know how to use Kernels.\n",
    "\n",
    "If you're curious about other ways of running Python code, and how to install Python locally, check out [the installation section of chapter 0 of A Whirlwind Tour of Python](https://www.kaggle.com/sohier/whirlwind-tour-of-python-00-introduction), and chapter 1 of WTOP on [How to Run Python Code](https://www.kaggle.com/sohier/wtop-01-how-to-run-python-code).\n",
    "\n",
    "Each exercise will start by importing some code that I wrote for checking  your code. Run the code cell below to do that, and you'll be ready to move on to question 0."
   ]
  },
  {
   "cell_type": "code",
   "execution_count": null,
   "metadata": {
    "_kg_hide-input": true,
    "_kg_hide-output": true,
    "_uuid": "2bd1390e295582605e368e687ca7f54b34a09fd8",
    "collapsed": true
   },
   "outputs": [],
   "source": [
    "# You don't need to worry for now about what this code does or how it works. If you're ever curious about the \n",
    "# code behind these exercises, it's available under an open source license here: https://github.com/Kaggle/learntools/\n",
    "# (But if you can understand that code, you'll probably find the Python challenge boring :)\n",
    "import sys; sys.path.insert(0, '../input/learntools/pseudo_learntools')\n",
    "from learntools.python import binder; binder.bind(globals())\n",
    "from learntools.python.ex1 import *\n",
    "print(\"Setup complete! You're ready to start question 0.\")"
   ]
  },
  {
   "cell_type": "markdown",
   "metadata": {
    "_uuid": "fdb28b9c76091a2371c21cb0c4b5f9fc994d67a9"
   },
   "source": [
    "## 0.\n",
    "\n",
    "*This is a silly question intended as an introduction to the format we'll be using for questions throughout the Python challenge.*\n",
    "\n",
    "**What is your favorite color? **\n",
    "\n",
    "To complete this question, you must create a variable called `color` in the cell below with an appropriate value. The function call `q0.check()` (which we've already provided in the cell below) will check your answer. If you run the cell below without changing its contents, `q0.check()` will recognize that you haven't attempted the problem yet, and remind you what you need to do. Try that now.\n",
    "\n",
    "(If  you get a `NameError`, it probably means you didn't run the setup code above. Make sure you run the previous code cell, and see a \"Setup complete!\" message printed.)"
   ]
  },
  {
   "cell_type": "code",
   "execution_count": null,
   "metadata": {
    "_uuid": "299c2f59e8cf69f4dd33599bd5bed76719850887",
    "collapsed": true
   },
   "outputs": [],
   "source": [
    "# create a variable called color with an appropriate value on the line below.\n",
    "\n",
    "q0.check()"
   ]
  },
  {
   "cell_type": "markdown",
   "metadata": {
    "_uuid": "cc2da0462c4513ebde744a9cc86a7098506fe5c6"
   },
   "source": [
    "Now try editing the cell below to solve the problem, creating a variable `color` on the second line of the cell. Run the cell to check your answer."
   ]
  },
  {
   "cell_type": "code",
   "execution_count": null,
   "metadata": {
    "_uuid": "1d5c7d516e9547579a4b8b264d7ec80aa2fd6926",
    "collapsed": true
   },
   "outputs": [],
   "source": [
    "# create a variable called color with an appropriate value on the line below\n",
    "# (Remember, strings in Python must be enclosed in 'single' or \"double\" quotes)\n",
    "\n",
    "q0.check()"
   ]
  },
  {
   "cell_type": "markdown",
   "metadata": {
    "_uuid": "88758ba6d5cf5e8a90e738b895eece95a6f6a598"
   },
   "source": [
    "Didn't get the right answer? How do you not even know your own favorite color?!\n",
    "\n",
    "Uncomment the below cell (by deleting the `#`) then run it to get a hint.  \n",
    "\n",
    "You can also uncomment the second cell below to get the full answer."
   ]
  },
  {
   "cell_type": "code",
   "execution_count": null,
   "metadata": {
    "_uuid": "8b38048eeff312c5a979f6aee58ac30f1f86bf9c",
    "collapsed": true
   },
   "outputs": [],
   "source": [
    "#q0.hint()"
   ]
  },
  {
   "cell_type": "code",
   "execution_count": null,
   "metadata": {
    "_uuid": "d76f968d6805facb239838f454426769b770f66e",
    "collapsed": true
   },
   "outputs": [],
   "source": [
    "#q0.solution()"
   ]
  },
  {
   "cell_type": "markdown",
   "metadata": {
    "_uuid": "d5285978dcebae8efd2c31b00cb45ea3d3ae9247"
   },
   "source": [
    "All the questions for this challenge will have this kind of \"API\". The only thing that will change are the questions numbers. For the next question, you'll call `q1.check()`, `q1.hint()`, `q1.solution()`, for question 5, you'll call `q5.check()`, and so on."
   ]
  },
  {
   "cell_type": "markdown",
   "metadata": {
    "_uuid": "2b8c86c67bcf9d2eda0d80d2ddd4bfa176b7cec2"
   },
   "source": [
    "<hr/>\n",
    "\n",
    "## 1.\n",
    "\n",
    "Complete the code below."
   ]
  },
  {
   "cell_type": "code",
   "execution_count": null,
   "metadata": {
    "_uuid": "ffbe0797b41d56b94a5ed2c75623b111202951d2",
    "collapsed": true
   },
   "outputs": [],
   "source": [
    "pi = 3.14159 # approximate\n",
    "diameter = 3\n",
    "\n",
    "# Create a variable called 'radius' equal to half the diameter\n",
    "\n",
    "# Create a variable called 'area', using the formula for the area of a circle: pi times the radius squared\n",
    "\n",
    "q1.check()"
   ]
  },
  {
   "cell_type": "code",
   "execution_count": null,
   "metadata": {
    "_uuid": "28f5cc4b8bec7f48cad2ad42af5478cf4908d203",
    "collapsed": true
   },
   "outputs": [],
   "source": [
    "# Uncomment and run the lines below if you need help.\n",
    "#q1.hint()\n",
    "#q1.solution()"
   ]
  },
  {
   "cell_type": "markdown",
   "metadata": {
    "_cell_guid": "6c3d3c5f-5d5f-4195-9194-59bdeaf86892",
    "_uuid": "989f50f61ac29d0973f5a2eab227d8bb684fb16c"
   },
   "source": [
    "<hr/>\n",
    "## 2.\n",
    "\n",
    "Add code to the following cell to swap variables `a` and `b` (so that `a` refers to the object previously referred to by `b` and vice versa)."
   ]
  },
  {
   "cell_type": "code",
   "execution_count": null,
   "metadata": {
    "_cell_guid": "d3dba630-d9ff-42ae-87fa-f11f286b723b",
    "_uuid": "8d2bce6ae522facd687131b51e29cde5d9ba17ba",
    "collapsed": true
   },
   "outputs": [],
   "source": [
    "########### Setup code - don't touch this part ######################\n",
    "# If you're curious, these are examples of lists. We'll talk about \n",
    "# them in depth a few lessons from now. For now, just know that they're\n",
    "# yet another type of Python object, like int or float.\n",
    "a = [1, 2, 3]\n",
    "b = [3, 2, 1]\n",
    "q2.store_original_ids()\n",
    "######################################################################\n",
    "\n",
    "# Your code goes here. Swap the values to which a and b refer.\n",
    "# If you get stuck, you can always uncomment one or both of the lines in\n",
    "# the next cell for a hint, or to peek at the solution.\n",
    "\n",
    "######################################################################\n",
    "q2.check()"
   ]
  },
  {
   "cell_type": "code",
   "execution_count": null,
   "metadata": {
    "_cell_guid": "748609cc-c8be-435e-a455-3fee4df28542",
    "_uuid": "acc810ae52cc82202a952149ff8db7c076b1dcb1",
    "collapsed": true
   },
   "outputs": [],
   "source": [
    "#q2.hint()"
   ]
  },
  {
   "cell_type": "code",
   "execution_count": null,
   "metadata": {
    "_uuid": "bf7a358127639c45db2c9634df05292fe2d648b4",
    "collapsed": true
   },
   "outputs": [],
   "source": [
    "#q2.solution()"
   ]
  },
  {
   "cell_type": "markdown",
   "metadata": {
    "_cell_guid": "be352d01-fb30-468a-b74f-c95991b9f382",
    "_uuid": "138eb172dcb7f05029de8b2821c266a7672ada67"
   },
   "source": [
    "<hr/>\n",
    "## 3.\n",
    "\n",
    "<!-- TODO: Or maybe this SHOULD just have a check method for consistency.-->\n",
    "\n",
    "<small>*Note: some questions, such as this one, won't have a .check() function. In this case, it should hopefully be easy to see whether you've succeeded by visual inspection.*</small>\n",
    "\n",
    "a) Add parentheses to the following expression so that it evaluates to 1."
   ]
  },
  {
   "cell_type": "code",
   "execution_count": null,
   "metadata": {
    "_cell_guid": "2a04eac0-8b5f-4dec-b7fe-dc6057f99998",
    "_uuid": "cc973d8e93e54271fbf7187bf79a41a75f9cdb14",
    "collapsed": true
   },
   "outputs": [],
   "source": [
    "5 - 3 // 2"
   ]
  },
  {
   "cell_type": "code",
   "execution_count": null,
   "metadata": {
    "_uuid": "23855b1b3d25eb4d856c7707423f41a6343a7a3f",
    "collapsed": true
   },
   "outputs": [],
   "source": [
    "#q3.a.hint()"
   ]
  },
  {
   "cell_type": "code",
   "execution_count": null,
   "metadata": {
    "_uuid": "5e3e9243ef996c1c2a48dba9085d7af58a4aa08d",
    "collapsed": true
   },
   "outputs": [],
   "source": [
    "#q3.a.solution()"
   ]
  },
  {
   "cell_type": "markdown",
   "metadata": {
    "_cell_guid": "8ef282f4-3eac-4fe8-b56c-fca739158016",
    "_uuid": "374c21cb978ef371fbe22925f4dc165f2ea07c5e"
   },
   "source": [
    "b) <span title=\"A bit spicy\" style=\"color: darkgreen \">🌶️</span> Add parentheses to the following expression so that it evaluates to 0\n",
    "\n",
    "<small>Questions, like this one, marked with a single pepper are a bit harder than average.</small>"
   ]
  },
  {
   "cell_type": "code",
   "execution_count": null,
   "metadata": {
    "_cell_guid": "f45f168b-3abb-407e-969c-770f4abde355",
    "_uuid": "a1ab38e5f577c6bbf6f591ab9c53e55cb316fce3",
    "collapsed": true
   },
   "outputs": [],
   "source": [
    "8 - 3 * 2 - 1 + 1"
   ]
  },
  {
   "cell_type": "code",
   "execution_count": null,
   "metadata": {
    "_uuid": "a4c86860407c743a69b252534c24f8610f2e477f",
    "collapsed": true
   },
   "outputs": [],
   "source": [
    "#q3.b.hint()"
   ]
  },
  {
   "cell_type": "code",
   "execution_count": null,
   "metadata": {
    "_uuid": "a18bd8cef490da27095f93a6bc9deee45e197b4c",
    "collapsed": true
   },
   "outputs": [],
   "source": [
    "#q3.b.solution()"
   ]
  },
  {
   "cell_type": "markdown",
   "metadata": {
    "_cell_guid": "f7d5eb9f-fd44-4338-8676-7722968670a2",
    "_uuid": "50a488d918d52adfd6700fdfb40b0edc5a59e667"
   },
   "source": [
    "<hr/>\n",
    "## 4. \n",
    "Alice, Bob and Carol have agreed to pool their Halloween candy and split it evenly among themselves.\n",
    "For the sake of their friendship, any candies left over will be smashed. For example, if they collectively\n",
    "bring home 91 candies, they'll take 30 each and smash 1.\n",
    "\n",
    "Write an arithmetic expression below to calculate how many candies they must smash for a given haul."
   ]
  },
  {
   "cell_type": "code",
   "execution_count": null,
   "metadata": {
    "_cell_guid": "77a74495-7172-41a1-9805-4794847a4d56",
    "_uuid": "1acd886a2a99592e92af7c2c286a897835369c1d",
    "collapsed": true
   },
   "outputs": [],
   "source": [
    "# Variables representing the number of candies collected by alice, bob, and carol\n",
    "alice_candies = 121\n",
    "bob_candies = 77\n",
    "carol_candies = 109\n",
    "\n",
    "# Your code goes here! Replace the right-hand side of this assignment with an expression\n",
    "# involving alice_candies, bob_candies, and carol_candies\n",
    "to_smash = -1\n",
    "\n",
    "q4.check()"
   ]
  },
  {
   "cell_type": "code",
   "execution_count": null,
   "metadata": {
    "_cell_guid": "8ece24c0-3875-4993-a118-56c68ad69350",
    "_uuid": "500fd677a636afc4f4df37c7123e928a1af895f7",
    "collapsed": true
   },
   "outputs": [],
   "source": [
    "#q4.hint()\n",
    "#q4.solution()"
   ]
  },
  {
   "cell_type": "markdown",
   "metadata": {
    "_cell_guid": "5803e28d-d8e3-428e-9a43-965862e5a60e",
    "_uuid": "6f483c01dc7199ec05b81b57f31daebf420c301d"
   },
   "source": [
    "<hr/>\n",
    "## 5. <span title=\"Spicy\" style=\"color: coral\">🌶️🌶️</span>\n",
    "\n",
    "<small>Questions marked with 2 or more peppers are especially tricky - don't feel bad about having to peek at the solution.</small>\n",
    "\n",
    "The code cell below may look like ASCII art, but it's actually a valid Python expression.\n",
    "Can you guess its value? Once you've made a prediction, uncomment and run the expression.\n",
    "\n",
    "<!-- TODO: Maybe a q6.a for them to guess the expression value before running, and have us tell them whether it's right or not? -->"
   ]
  },
  {
   "cell_type": "code",
   "execution_count": null,
   "metadata": {
    "_cell_guid": "98ebeef3-a24b-433c-9dc5-947c56c92eaf",
    "_uuid": "517c0f6be7174d3341648beb39c8689e96971254",
    "collapsed": true
   },
   "outputs": [],
   "source": [
    "#7------3"
   ]
  },
  {
   "cell_type": "markdown",
   "metadata": {
    "_cell_guid": "61bc1763-d814-4a81-8dc0-ef05bd75ee85",
    "_uuid": "9c52cbf7be72f1ad979775c795aecedd40843834"
   },
   "source": [
    "What's going on here?\n",
    "\n",
    "Here's a test of your understanding: how will the value of the expression change as `-`s are added or removed from the middle? Fill in the variable `ninety_nine_dashes` in the code cell below with the value of the above expression if we had used 99 `-` symbols between 7 and 3 ."
   ]
  },
  {
   "cell_type": "code",
   "execution_count": null,
   "metadata": {
    "_cell_guid": "f1278f0b-e3a8-40ea-9923-f236bdf2e0a8",
    "_uuid": "c1f0ac631aa85a7c31602b813a4eac37bbc152a0",
    "collapsed": true
   },
   "outputs": [],
   "source": [
    "#ninety_nine_dashes = \n",
    "q5.check()"
   ]
  },
  {
   "cell_type": "code",
   "execution_count": null,
   "metadata": {
    "_uuid": "e23a6d562b6b22a9ce4a9a2c96975164bc706fd1",
    "collapsed": true
   },
   "outputs": [],
   "source": [
    "#q5.hint()\n",
    "#q5.solution()"
   ]
  },
  {
   "cell_type": "markdown",
   "metadata": {
    "_uuid": "4110e01ce59e5821dd9352a70657393a83480059"
   },
   "source": [
    "<hr/>\n",
    "## 6. <span title=\"Spicy\" style=\"color: coral\">🌶️🌶️</span>\n",
    "\n",
    "The following is an example of a tricky piece of arithmetic manipulation you might encounter when using Python for visualization.\n",
    "\n",
    "Suppose we're working with the [QuickDraw dataset](https://www.kaggle.com/google/tinyquickdraw) of doodled sketches and we want to visualize several sketches at once in a grid-like arrangement.\n",
    "\n",
    "We'd like to reserve 2x2 inches for each image, and we'd like the whole grid to be no wider than 16 inches.\n",
    "\n",
    "The code below almost works. It does the following:\n",
    "\n",
    "1. Get a random number of sketches from some category (e.g. bears, stars, hockey sticks...)\n",
    "2. Create variables `rows`, `cols`, `height`, and `width`, setting them to numbers we pulled out of the air.\n",
    "3. Calls `plt.subplots()` using the variables from step 2, which creates a grid with the given characteristics.\n",
    "4. Draws the sketches from step 1 in the grid from step 3.\n",
    "\n",
    "Try running the cell a few times to see it in action."
   ]
  },
  {
   "cell_type": "code",
   "execution_count": null,
   "metadata": {
    "_uuid": "a2b0867723feb694e58c09f6439d9b8a939a6433",
    "collapsed": true
   },
   "outputs": [],
   "source": [
    "import random\n",
    "from matplotlib import pyplot as plt\n",
    "from learntools.python.quickdraw import random_category, sample_images_of_category, draw_images_on_subplots\n",
    "\n",
    "## Step 1: Sample some sketches\n",
    "# How many sketches to view - a random number from 2 to 20\n",
    "n = random.randint(2, 20)\n",
    "# Choose a random quickdraw category. (Check out https://quickdraw.withgoogle.com/data for an overview of categories)\n",
    "category = random_category()\n",
    "imgs = sample_images_of_category(n, category)\n",
    "\n",
    "## Step 2: Choose the grid properties\n",
    "######## Your changes should go here ###############\n",
    "rows = 3\n",
    "cols = 5\n",
    "# The height and width of the whole grid, measured in inches.\n",
    "height = 5\n",
    "width = 16\n",
    "\n",
    "## Step 3: Create the grid\n",
    "grid = plt.subplots(rows, cols, figsize=(width, height))\n",
    "\n",
    "## Step 4: Draw the sketches in the grid\n",
    "draw_images_on_subplots(imgs, grid)"
   ]
  },
  {
   "cell_type": "markdown",
   "metadata": {
    "_uuid": "664532929fc41840727be8f12f80965694794257"
   },
   "source": [
    "You may have noticed a few problems (with accompanying warning messages printed out):\n",
    "\n",
    "- We wanted each image to be drawn in a square (with width and height of 2 inches), but they're being drawn inside fat rectangles.\n",
    "- Our grid can only fit at most 15 images. If we sample more than that, only the first 15 are shown.\n",
    "- If we sample a small number of images, we waste a lot of space.\n",
    "\n",
    "All these problems stem from our shoddy approach to step 2 in the code. Instead of using the same grid dimensions every time, they should adapt to the number of images we're showing. For example, if `n = 3`,  we should make a 6\" x 2\" grid with 1 row and 3 columns. If `n = 15`, we should make a 16\" x 4\" grid with 2 rows and 8 columns. (We'll have one empty space in the grid, but that's okay, as long as we don't have whole rows or columns that are empty.)\n",
    "\n",
    "Update the code above to fix the values of `rows`, `cols`, `width`, and `height`, so that our grid adapts to the number of images shown and makes efficient use of space. Run your code a few times to make sure it doesn't generate any warnings.\n",
    "\n",
    "<small>**Note**: I'm intentionally glossing over the details of steps 1, 3, and 4 of the code. If you're curious about how the functions we imported such as `sample_images_of_category`, or `draw_images_on_subplots` work, you can check out their definitions [here](https://github.com/Kaggle/learntools/blob/master/learntools/python/quickdraw.py). The code uses lots of syntax and data structures that we'll cover later, so if it looks like gibberish to you at this point, don't worry. We will *not* be going into the specifics of data visualization using matplotlib or any other library in this course. But fortunately, we have a [track on Kaggle Learn](https://www.kaggle.com/learn/data-visualisation) on just that topic.</small>"
   ]
  },
  {
   "cell_type": "code",
   "execution_count": null,
   "metadata": {
    "_uuid": "ab46137776eb9c238aa9a4db94f3fe9f23ac2406",
    "collapsed": true
   },
   "outputs": [],
   "source": [
    "#q6.hint()\n",
    "#q6.solution()"
   ]
  },
  {
   "cell_type": "markdown",
   "metadata": {
    "_uuid": "47ac4212e70cdecec65b85c0d4a9dd47b52d441d"
   },
   "source": [
    "**Bonus**: Can you code this in a way the minimizes the number of empty cells (while obeying the original constraints about 2x2 inches per image and no more than 16\" total width)? For example, a naive solution for `n = 10` might create an 8x2 grid, meaning the bottom row would have only 2 images, and 4 empty spaces. A more clever solution would set `rows = 2`, and `columns = 5`."
   ]
  },
  {
   "cell_type": "markdown",
   "metadata": {
    "_uuid": "03e5beabe5e1265fae0cd790f1bb9871b82f3c0a"
   },
   "source": [
    "<hr/>\n",
    "## 7. <span title=\"Extra-spicy. Recommended for experienced Pythonistas only\" style=\"color: firebrick\">🌶️🌶️🌶️</span>\n",
    "\n",
    "<small>Questions marked with 3 peppers are **extra-spicy**, and may be difficult to solve without prior Python experience. They're mostly aimed at experienced Python coders who are taking the Python challenge as a refresher. If that doesn't describe you, feel free to skip this one.</small>\n",
    "\n",
    "Suppose we want to create two variables, `a` and `b`, both initialized to 0. The obvious way to do this would be...\n",
    "\n",
    "```python\n",
    "a = 0\n",
    "b = 0```\n",
    "\n",
    "But if you've read a lot of Python code, you may be aware of the following nifty shortcut:\n",
    "\n",
    "```python\n",
    "a = b = 0\n",
    "```\n",
    "\n",
    "Can you think of a case where it makes a difference which syntax we use, when initializing two variables to the same value?"
   ]
  },
  {
   "cell_type": "code",
   "execution_count": null,
   "metadata": {
    "_uuid": "89bc3397d59efc8a62633ec111709188e4528106",
    "collapsed": true
   },
   "outputs": [],
   "source": [
    "#q7.hint()\n",
    "#q7.solution()"
   ]
  },
  {
   "cell_type": "markdown",
   "metadata": {
    "_uuid": "92dd3a178699421f69bcf6c762ac022683b6f377"
   },
   "source": [
    "And that's it for today! If you have any questions, be sure to post them on the [forums](https://www.kaggle.com/learn-forum).\n",
    "\n",
    "Remember that your notebook is private by default, and in order to share it with other people or ask for help with it, you'll need to make it public. First, you'll need to save a version of your notebook that shows your current work by hitting the \"Commit & Run\" button. (Your work is saved automatically, but versioning your work lets you go back and look at what it was like at the point you saved it. It also let's you share a nice compiled notebook instead of just the raw code.) Then, once your notebook is finished running, you can go to the Settings tab in the panel to the left (you may have to expand it by hitting the [<] button next to the \"Commit & Run\" button) and setting the \"Visibility\" dropdown to \"Public\".\n",
    "\n",
    "I'll see you tomorrow for day 2 of the challenge. We'll be defining functions and consulting Python's built-in documentation.\n",
    "\n",
    "<small>P.S. Did you enjoy day 1? Hate it? Help me improve days 2-7 by answering a short set of questions <a href=\"https://form.jotform.com/81608779868277\">here</a>.</small>"
   ]
  }
 ],
 "metadata": {
  "kernelspec": {
   "display_name": "Python 3",
   "language": "python",
   "name": "python3"
  },
  "language_info": {
   "codemirror_mode": {
    "name": "ipython",
    "version": 3
   },
   "file_extension": ".py",
   "mimetype": "text/x-python",
   "name": "python",
   "nbconvert_exporter": "python",
   "pygments_lexer": "ipython3",
   "version": "3.6.5"
  }
 },
 "nbformat": 4,
 "nbformat_minor": 1
}
